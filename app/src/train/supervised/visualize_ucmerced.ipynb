{
 "cells": [
  {
   "cell_type": "code",
   "execution_count": 1,
   "metadata": {},
   "outputs": [],
   "source": [
    "import matplotlib.pyplot as plt\n",
    "import random\n",
    "import torch\n",
    "import pandas as pd\n",
    "from data_utils import ucmerced_prepare_data\n",
    "from train_utils import convnode_task"
   ]
  },
  {
   "cell_type": "code",
   "execution_count": 3,
   "metadata": {},
   "outputs": [
    {
     "data": {
      "text/html": [
       "<div>\n",
       "<style scoped>\n",
       "    .dataframe tbody tr th:only-of-type {\n",
       "        vertical-align: middle;\n",
       "    }\n",
       "\n",
       "    .dataframe tbody tr th {\n",
       "        vertical-align: top;\n",
       "    }\n",
       "\n",
       "    .dataframe thead th {\n",
       "        text-align: right;\n",
       "    }\n",
       "</style>\n",
       "<table border=\"1\" class=\"dataframe\">\n",
       "  <thead>\n",
       "    <tr style=\"text-align: right;\">\n",
       "      <th></th>\n",
       "      <th>image_path</th>\n",
       "      <th>label</th>\n",
       "    </tr>\n",
       "  </thead>\n",
       "  <tbody>\n",
       "    <tr>\n",
       "      <th>0</th>\n",
       "      <td>river/river57.tif</td>\n",
       "      <td>river</td>\n",
       "    </tr>\n",
       "    <tr>\n",
       "      <th>1</th>\n",
       "      <td>intersection/intersection78.tif</td>\n",
       "      <td>intersection</td>\n",
       "    </tr>\n",
       "    <tr>\n",
       "      <th>2</th>\n",
       "      <td>sparseresidential/sparseresidential86.tif</td>\n",
       "      <td>sparseresidential</td>\n",
       "    </tr>\n",
       "  </tbody>\n",
       "</table>\n",
       "</div>"
      ],
      "text/plain": [
       "                                  image_path              label\n",
       "0                          river/river57.tif              river\n",
       "1            intersection/intersection78.tif       intersection\n",
       "2  sparseresidential/sparseresidential86.tif  sparseresidential"
      ]
     },
     "execution_count": 3,
     "metadata": {},
     "output_type": "execute_result"
    }
   ],
   "source": [
    "df = pd.read_csv(\"https://raw.githubusercontent.com/biasvariancelabs/aitlas-arena/refs/heads/main/splits/ucmerced_train.csv\", header=None, names=['image_path', 'label'])\n",
    "df[:3]"
   ]
  },
  {
   "cell_type": "code",
   "execution_count": 6,
   "metadata": {},
   "outputs": [
    {
     "name": "stdout",
     "output_type": "stream",
     "text": [
      "Class to Index Mapping: {'agricultural': 0, 'airplane': 1, 'baseballdiamond': 2, 'beach': 3, 'buildings': 4, 'chaparral': 5, 'denseresidential': 6, 'forest': 7, 'freeway': 8, 'golfcourse': 9, 'harbor': 10, 'intersection': 11, 'mediumresidential': 12, 'mobilehomepark': 13, 'overpass': 14, 'parkinglot': 15, 'river': 16, 'runway': 17, 'sparseresidential': 18, 'storagetanks': 19, 'tenniscourt': 20}\n",
      "Index to Class Mapping: {0: 'agricultural', 1: 'airplane', 2: 'baseballdiamond', 3: 'beach', 4: 'buildings', 5: 'chaparral', 6: 'denseresidential', 7: 'forest', 8: 'freeway', 9: 'golfcourse', 10: 'harbor', 11: 'intersection', 12: 'mediumresidential', 13: 'mobilehomepark', 14: 'overpass', 15: 'parkinglot', 16: 'river', 17: 'runway', 18: 'sparseresidential', 19: 'storagetanks', 20: 'tenniscourt'}\n"
     ]
    }
   ],
   "source": [
    "# Get unique classes\n",
    "unique_classes = sorted(df['label'].unique())\n",
    "\n",
    "# Create mappings\n",
    "class_to_idx = {cls: idx for idx, cls in enumerate(unique_classes)}\n",
    "idx_to_class = {idx: cls for cls, idx in class_to_idx.items()}\n",
    "\n",
    "# Display the mappings\n",
    "print(\"Class to Index Mapping:\", class_to_idx)\n",
    "print(\"Index to Class Mapping:\", idx_to_class)"
   ]
  },
  {
   "cell_type": "code",
   "execution_count": 2,
   "metadata": {},
   "outputs": [],
   "source": [
    "def visualize_predictions(model, dataloader, num_samples=25):\n",
    "    \"\"\"\n",
    "    Visualize ground truth vs. predicted labels for random samples from the dataloader.\n",
    "    \n",
    "    Args:\n",
    "        model (torch.nn.Module): Trained PyTorch model.\n",
    "        dataloader (DataLoader): Dataloader for the dataset.\n",
    "        num_samples (int): Number of random examples to visualize.\n",
    "    \"\"\"\n",
    "    model.eval()  # Set model to evaluation mode\n",
    "    all_images, all_preds, all_labels = [], [], []\n",
    "\n",
    "    # ImageNet normalization stats\n",
    "    mean = torch.tensor([0.4914, 0.4822, 0.4465])\n",
    "    std = torch.tensor([0.2023, 0.1994, 0.2010])\n",
    "\n",
    "    with torch.no_grad():\n",
    "        for batch in dataloader:\n",
    "            images, labels = batch\n",
    "            logits = model(images)\n",
    "            preds = torch.argmax(logits, dim=1)\n",
    "\n",
    "            all_images.extend(images.cpu())\n",
    "            all_preds.extend(preds.cpu().numpy())\n",
    "            all_labels.extend(labels.cpu().numpy())\n",
    "\n",
    "    # Randomly select samples\n",
    "    indices = random.sample(range(len(all_images)), num_samples)\n",
    "    selected_images = [all_images[i] for i in indices]\n",
    "    selected_preds = [all_preds[i] for i in indices]\n",
    "    selected_labels = [all_labels[i] for i in indices]\n",
    "\n",
    "    # Create a grid of images\n",
    "    fig, axes = plt.subplots(5, 5, figsize=(15, 15))\n",
    "    axes = axes.flatten()\n",
    "    for img, pred, label, ax in zip(selected_images, selected_preds, selected_labels, axes):\n",
    "        # De-normalize the image\n",
    "        img = img.permute(1, 2, 0)  # Convert from CHW to HWC\n",
    "        img = img * std + mean  # De-normalize (undo normalization)\n",
    "        img = img * 255.0  # Scale back to 0-255\n",
    "        img = img.numpy().astype('uint8')  # Convert to uint8 for visualization\n",
    "\n",
    "        # Plot the image\n",
    "        ax.imshow(img)\n",
    "        ax.axis('off')\n",
    "        ax.set_title(f\"GT: {label}\\nPred: {pred}\", color=\"green\" if label == pred else \"red\")\n",
    "\n",
    "    plt.tight_layout()\n",
    "    plt.show()"
   ]
  },
  {
   "cell_type": "code",
   "execution_count": 2,
   "metadata": {},
   "outputs": [
    {
     "name": "stdout",
     "output_type": "stream",
     "text": [
      "ALL LABELS\n",
      "['agricultural', 'airplane', 'baseballdiamond', 'beach', 'buildings', 'chaparral', 'denseresidential', 'forest', 'freeway', 'golfcourse', 'harbor', 'intersection', 'mediumresidential', 'mobilehomepark', 'overpass', 'parkinglot', 'river', 'runway', 'sparseresidential', 'storagetanks', 'tenniscourt']\n"
     ]
    }
   ],
   "source": [
    "train_loader, val_loader, labels = ucmerced_prepare_data.prepare_data()"
   ]
  },
  {
   "cell_type": "code",
   "execution_count": null,
   "metadata": {},
   "outputs": [],
   "source": [
    "model = convnode_task.UCMERCDNeuralODE(num_classes=21)"
   ]
  },
  {
   "cell_type": "code",
   "execution_count": 13,
   "metadata": {},
   "outputs": [
    {
     "data": {
      "text/plain": [
       "UCMERCDNeuralODE(\n",
       "  (train_accuracy): MulticlassAccuracy()\n",
       "  (val_accuracy): MulticlassAccuracy()\n",
       "  (val_precision): MulticlassPrecision()\n",
       "  (val_recall): MulticlassRecall()\n",
       "  (val_f1): MulticlassF1Score()\n",
       "  (val_mAP): MulticlassAveragePrecision()\n",
       "  (val_math_corr_coeff): MulticlassMatthewsCorrCoef()\n",
       "  (val_cohen_kappa): MulticlassCohenKappa()\n",
       "  (confusion_matrix): MulticlassConfusionMatrix()\n",
       "  (model): ConvODENet(\n",
       "    (odeblock): ODEBlock(\n",
       "      (odefunc): ConvODEFunc(\n",
       "        (conv1): Conv2dTime(5, 64, kernel_size=(1, 1), stride=(1, 1))\n",
       "        (conv2): Conv2dTime(65, 64, kernel_size=(3, 3), stride=(1, 1), padding=(1, 1))\n",
       "        (conv3): Conv2dTime(65, 4, kernel_size=(1, 1), stride=(1, 1))\n",
       "        (non_linearity): ReLU(inplace=True)\n",
       "      )\n",
       "    )\n",
       "    (linear_layer): Linear(in_features=200704, out_features=21, bias=True)\n",
       "  )\n",
       ")"
      ]
     },
     "execution_count": 13,
     "metadata": {},
     "output_type": "execute_result"
    }
   ],
   "source": [
    "model = convnode_task.UCMERCDNeuralODE.load_from_checkpoint(\"D:\\\\Projects\\\\neuralODE_RSclassification\\\\logs\\\\convode\\\\version_0\\\\checkpoints\\\\epoch=9-step=530.ckpt\", num_classes=21)\n",
    "model.to('cpu')\n",
    "model.eval()"
   ]
  },
  {
   "cell_type": "code",
   "execution_count": 18,
   "metadata": {},
   "outputs": [
    {
     "name": "stdout",
     "output_type": "stream",
     "text": [
      "torch.Size([100, 21])\n",
      "tensor([0, 0, 0, 0, 0, 0, 0, 0, 0, 0, 0, 0, 0, 0, 0, 0, 0, 0, 0, 0, 0, 0, 0, 0,\n",
      "        0, 0, 0, 0, 0, 0, 0, 0, 0, 0, 0, 0, 0, 0, 0, 0, 0, 0, 0, 0, 0, 0, 0, 0,\n",
      "        0, 0, 0, 0, 0, 0, 0, 0, 0, 0, 0, 0, 0, 0, 0, 0, 0, 0, 0, 0, 0, 0, 0, 0,\n",
      "        0, 0, 0, 0, 0, 0, 0, 0, 0, 0, 0, 0, 0, 0, 0, 0, 0, 0, 0, 0, 0, 0, 0, 0,\n",
      "        0, 0, 0, 0])\n",
      "torch.Size([100])\n"
     ]
    }
   ],
   "source": [
    "input = torch.rand(100,3,224, 224)\n",
    "with torch.no_grad():\n",
    "    output = model(input)\n",
    "print(output.shape)\n",
    "print(output.argmax(dim=1))\n",
    "print(output.argmax(dim=1).shape)"
   ]
  },
  {
   "cell_type": "code",
   "execution_count": null,
   "metadata": {},
   "outputs": [],
   "source": []
  }
 ],
 "metadata": {
  "kernelspec": {
   "display_name": "Python 3",
   "language": "python",
   "name": "python3"
  },
  "language_info": {
   "codemirror_mode": {
    "name": "ipython",
    "version": 3
   },
   "file_extension": ".py",
   "mimetype": "text/x-python",
   "name": "python",
   "nbconvert_exporter": "python",
   "pygments_lexer": "ipython3",
   "version": "3.9.18"
  }
 },
 "nbformat": 4,
 "nbformat_minor": 2
}
