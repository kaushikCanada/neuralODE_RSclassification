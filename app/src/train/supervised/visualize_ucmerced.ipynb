{
 "cells": [
  {
   "cell_type": "code",
   "execution_count": 1,
   "metadata": {},
   "outputs": [],
   "source": [
    "import matplotlib.pyplot as plt\n",
    "import random\n",
    "import torch\n",
    "\n",
    "from data_utils import ucmerced_prepare_data\n",
    "from train_utils import convnode_task"
   ]
  },
  {
   "cell_type": "code",
   "execution_count": 2,
   "metadata": {},
   "outputs": [],
   "source": [
    "def visualize_predictions(model, dataloader, num_samples=25):\n",
    "    \"\"\"\n",
    "    Visualize ground truth vs. predicted labels for random samples from the dataloader.\n",
    "    \n",
    "    Args:\n",
    "        model (torch.nn.Module): Trained PyTorch model.\n",
    "        dataloader (DataLoader): Dataloader for the dataset.\n",
    "        num_samples (int): Number of random examples to visualize.\n",
    "    \"\"\"\n",
    "    model.eval()  # Set model to evaluation mode\n",
    "    all_images, all_preds, all_labels = [], [], []\n",
    "\n",
    "    # ImageNet normalization stats\n",
    "    mean = torch.tensor([0.4914, 0.4822, 0.4465])\n",
    "    std = torch.tensor([0.2023, 0.1994, 0.2010])\n",
    "\n",
    "    with torch.no_grad():\n",
    "        for batch in dataloader:\n",
    "            images, labels = batch\n",
    "            logits = model(images)\n",
    "            preds = torch.argmax(logits, dim=1)\n",
    "\n",
    "            all_images.extend(images.cpu())\n",
    "            all_preds.extend(preds.cpu().numpy())\n",
    "            all_labels.extend(labels.cpu().numpy())\n",
    "\n",
    "    # Randomly select samples\n",
    "    indices = random.sample(range(len(all_images)), num_samples)\n",
    "    selected_images = [all_images[i] for i in indices]\n",
    "    selected_preds = [all_preds[i] for i in indices]\n",
    "    selected_labels = [all_labels[i] for i in indices]\n",
    "\n",
    "    # Create a grid of images\n",
    "    fig, axes = plt.subplots(5, 5, figsize=(15, 15))\n",
    "    axes = axes.flatten()\n",
    "    for img, pred, label, ax in zip(selected_images, selected_preds, selected_labels, axes):\n",
    "        # De-normalize the image\n",
    "        img = img.permute(1, 2, 0)  # Convert from CHW to HWC\n",
    "        img = img * std + mean  # De-normalize (undo normalization)\n",
    "        img = img * 255.0  # Scale back to 0-255\n",
    "        img = img.numpy().astype('uint8')  # Convert to uint8 for visualization\n",
    "\n",
    "        # Plot the image\n",
    "        ax.imshow(img)\n",
    "        ax.axis('off')\n",
    "        ax.set_title(f\"GT: {label}\\nPred: {pred}\", color=\"green\" if label == pred else \"red\")\n",
    "\n",
    "    plt.tight_layout()\n",
    "    plt.show()"
   ]
  },
  {
   "cell_type": "code",
   "execution_count": 3,
   "metadata": {},
   "outputs": [
    {
     "name": "stdout",
     "output_type": "stream",
     "text": [
      "ALL LABELS\n",
      "['agricultural', 'airplane', 'baseballdiamond', 'beach', 'buildings', 'chaparral', 'denseresidential', 'forest', 'freeway', 'golfcourse', 'harbor', 'intersection', 'mediumresidential', 'mobilehomepark', 'overpass', 'parkinglot', 'river', 'runway', 'sparseresidential', 'storagetanks', 'tenniscourt']\n"
     ]
    }
   ],
   "source": [
    "train_loader, val_loader, labels = ucmerced_prepare_data.prepare_data()"
   ]
  },
  {
   "cell_type": "code",
   "execution_count": 4,
   "metadata": {},
   "outputs": [],
   "source": [
    "model = convnode_task.UCMERCDNeuralODE(num_classes=21)"
   ]
  },
  {
   "cell_type": "code",
   "execution_count": 5,
   "metadata": {},
   "outputs": [],
   "source": [
    "# visualize_predictions(trained_model, dataloader)"
   ]
  },
  {
   "cell_type": "code",
   "execution_count": null,
   "metadata": {},
   "outputs": [],
   "source": []
  }
 ],
 "metadata": {
  "kernelspec": {
   "display_name": "Python 3",
   "language": "python",
   "name": "python3"
  },
  "language_info": {
   "codemirror_mode": {
    "name": "ipython",
    "version": 3
   },
   "file_extension": ".py",
   "mimetype": "text/x-python",
   "name": "python",
   "nbconvert_exporter": "python",
   "pygments_lexer": "ipython3",
   "version": "3.9.18"
  }
 },
 "nbformat": 4,
 "nbformat_minor": 2
}
